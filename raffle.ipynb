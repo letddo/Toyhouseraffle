{
  "cells": [
    {
      "cell_type": "markdown",
      "metadata": {
        "id": "view-in-github",
        "colab_type": "text"
      },
      "source": [
        "<a href=\"https://colab.research.google.com/github/letddo/Toyhouseraffle/blob/main/raffle.ipynb\" target=\"_parent\"><img src=\"https://colab.research.google.com/assets/colab-badge.svg\" alt=\"Open In Colab\"/></a>"
      ]
    },
    {
      "cell_type": "code",
      "execution_count": null,
      "metadata": {
        "id": "KVKFkV-mKS5f"
      },
      "outputs": [],
      "source": [
        "from bs4 import BeautifulSoup \n",
        "import requests\n",
        "\n",
        "#크롤링 준비\n",
        "\n",
        "f = open(\"raffle1.txt\", \"r\", encoding='UTF-8')\n",
        "#raffle.txt자리에는 '래플 대상 캐'의 fav 안 주소의 html를 긁어온거를 txt파일로 만들어서 넣기\n",
        "data = f.read()\n",
        "f.close()\n",
        "\n",
        "soup = BeautifulSoup(data, 'html.parser')\n",
        "#soup\n",
        "#html을 파이썬에서도 읽을 수 있게 변형\n"
      ]
    },
    {
      "cell_type": "code",
      "execution_count": null,
      "metadata": {
        "id": "Nr5dlsTDKS5i"
      },
      "outputs": [],
      "source": [
        "name = soup.select('div.user-name > a.user-name-badge')\n",
        "#데이터들중에서 이름만 존재하는 곳 한정해서 name에 넣기\n",
        "\n",
        "# print(name)\n",
        "# len(name)\n",
        "\n",
        "\n",
        "\n",
        "\n",
        "#llong = 0\n",
        "who = []\n",
        "for l in name:\n",
        "    who.append(l.text)\n",
        "#    print(l.text)\n",
        "#    llong += 1\n",
        "\n",
        "#name 을 who라는 리스트에 넣어 정리하기\n",
        "print(who)\n",
        "print(len(who))"
      ]
    },
    {
      "cell_type": "code",
      "execution_count": null,
      "metadata": {
        "scrolled": true,
        "id": "5nVnwLO7KS5j"
      },
      "outputs": [],
      "source": [
        "#1. 그중에 하나 뽑기\n",
        "\n",
        "import random\n",
        "\n",
        "winner = random.choice(who)\n",
        "#랜덤으로 요소 하나 출력\n",
        "\n",
        "print(winner)"
      ]
    },
    {
      "cell_type": "code",
      "execution_count": null,
      "metadata": {
        "id": "Cg0uyYYHKS5k"
      },
      "outputs": [],
      "source": [
        "# <2 페이지 이상일 시>\n",
        "# 더 돌리는 방법밖엔 없나?\n",
        "\n",
        "\n",
        "d = open(\"subscribers6.txt\", \"r\", encoding='UTF-8')\n",
        "#subscribers.txt자리에 다음 페이지 떠서 집어넣음\n",
        "data_sub = d.read()\n",
        "d.close()\n",
        "\n",
        "soup_sub = BeautifulSoup(data_sub, 'html.parser')\n",
        "\n",
        "\n",
        "subber = soup_sub.select('div.mb-1 > a.user-name-badge')\n",
        "\n",
        "for l in subber:\n",
        "    subber_list.append(l.text)\n",
        "\n",
        "print(subber_list)\n"
      ]
    },
    {
      "cell_type": "code",
      "execution_count": null,
      "metadata": {
        "id": "-tEIEL_KKS5l"
      },
      "outputs": [],
      "source": [
        "\n",
        "\n",
        "d = open(\"tsubscribers_other.txt\", \"r\", encoding='UTF-8')\n",
        "#subscribers.txt자리에는 팔로워 주소 넣으면 됨. https://toyhou.se/님닉네임/stats/subscribers\n",
        "data_sub = d.read()\n",
        "d.close()\n",
        "\n",
        "soup_sub = BeautifulSoup(data_sub, 'html.parser')\n",
        "\n",
        "\n",
        "subber = soup_sub.select('div.mb-1 > a.user-name-badge')\n",
        "\n",
        "subber_list = []\n",
        "for l in subber:\n",
        "    subber_list.append(l.text)\n",
        "\n",
        "# # print(subber)\n",
        "# # len(subber)\n",
        "\n",
        "# llong = 0\n",
        "# subscribers = []\n",
        "# for l in subber:\n",
        "#     subscribers.append(l.text)\n",
        "# #     print(l.text)\n",
        "# #     llong += 1\n",
        "\n",
        "# #name 을 who라는 리스트에 넣어 정리하기\n",
        "# print(subscribers)"
      ]
    },
    {
      "cell_type": "code",
      "execution_count": null,
      "metadata": {
        "id": "0B9gzsTlKS5m"
      },
      "outputs": [],
      "source": [
        "#확인덧글한사람만!\n",
        "\n",
        "d = open(\"com.txt\", \"r\", encoding='UTF-8')\n",
        "#com.txt자리에는 확인덧글창주소 넣으면 됨. \n",
        "data_com = d.read()\n",
        "d.close()\n",
        "\n",
        "soup_com = BeautifulSoup(data_com, 'html.parser')\n",
        "\n",
        "\n",
        "commer = soup_com.select('span > a.user-name-badge')\n",
        "\n",
        "commer_list = []\n",
        "for l in commer:\n",
        "    commer_list.append(l.text)\n",
        "    \n",
        "\n",
        "print(commer_list)\n"
      ]
    },
    {
      "cell_type": "code",
      "execution_count": null,
      "metadata": {
        "id": "Pb1SGIStKS5n"
      },
      "outputs": [],
      "source": [
        "print(len(subber_list))"
      ]
    },
    {
      "cell_type": "code",
      "execution_count": null,
      "metadata": {
        "id": "u4lME-2dKS5o"
      },
      "outputs": [],
      "source": [
        "#2. 딕셔너리 변형 형태는 이름:추첨수\n",
        "#그리고 대상이 되는 fav하는 게시글 위와 같은 방식으로 크롤링해서 fav누른 사람들 이름 추출\n",
        "#그리고 이름 보일때마다 1씩 추가\n",
        "#딕셔너리 초기화 여기부터\n",
        "poi = 0\n",
        "who_dic = dict()\n",
        "\n",
        "for l in name:\n",
        "    who_dic[l.text] = who_dic.get(l.text,0) + 1\n",
        "    poi += 1\n",
        "\n",
        "print(who_dic)\n",
        "print(poi)\n",
        "\n",
        "\n"
      ]
    },
    {
      "cell_type": "code",
      "execution_count": null,
      "metadata": {
        "id": "egVcJPDOKS5p"
      },
      "outputs": [],
      "source": [
        "# #팔로하면 +1\n",
        "for l in subber_list:\n",
        "    if l in who_dic:\n",
        "        who_dic[l] += 1\n",
        "     \n",
        "print(who_dic)"
      ]
    },
    {
      "cell_type": "code",
      "execution_count": null,
      "metadata": {
        "scrolled": false,
        "id": "72UDG_F5KS5p"
      },
      "outputs": [],
      "source": [
        "#2.2 > 팔로하지 않으면 대상에서 제외\n",
        "\n",
        "real_who_dic = dict()\n",
        "\n",
        "for l in subber_list:\n",
        "    if l in who_dic:\n",
        "        real_who_dic[l] = 1\n",
        "\n",
        "who_dic = real_who_dic\n",
        "     \n",
        "print(who_dic)\n",
        "print(len(who_dic))"
      ]
    },
    {
      "cell_type": "code",
      "execution_count": null,
      "metadata": {
        "id": "05SJ5cg2KS5q"
      },
      "outputs": [],
      "source": [
        "#2.2 > 확인덧글 달지 않으면 대상에서 제외\n",
        "\n",
        "real_who_dic = dict()\n",
        "\n",
        "for l in commer_list:\n",
        "    if l in who_dic:\n",
        "        real_who_dic[l] = 1\n",
        "\n",
        "who_dic = real_who_dic\n",
        "     \n",
        "print(who_dic)\n",
        "print(len(who_dic))"
      ]
    },
    {
      "cell_type": "code",
      "execution_count": null,
      "metadata": {
        "id": "U50stSV7KS5q"
      },
      "outputs": [],
      "source": [
        "#2.3 > fav하면 +1\n",
        "\n",
        "f = open(\"fav_other2.txt\", \"r\", encoding='UTF-8')\n",
        "#fav_other.txt자리에는 'fav할 시 +1인 대상의 캐'의 fav 안 주소의 html를 긁어온거를 txt파일로 만들어서 넣기\n",
        "data = f.read()\n",
        "f.close()\n",
        "\n",
        "soup_fav = BeautifulSoup(data, 'html.parser')\n",
        "fav = soup_fav.select('div.user-name > a.user-name-badge')\n",
        "\n",
        "fav_list = []\n",
        "\n",
        "for w in fav:\n",
        "    fav_list.append(w.text)\n",
        "\n",
        "for v in fav_list:\n",
        "    if v in who_dic:\n",
        "        who_dic[v] = who_dic.get(v,0) + 1\n",
        "\n",
        "print(who_dic)\n",
        "print(len(who_dic))"
      ]
    },
    {
      "cell_type": "code",
      "execution_count": null,
      "metadata": {
        "id": "axLtGLbOKS5r"
      },
      "outputs": [],
      "source": [
        "#2.4 > fav안하면 제외\n",
        "\n",
        "f = open(\"fav_other.txt\", \"r\", encoding='UTF-8')\n",
        "#fav_other.txt자리에는 'fav할 시 +1인 대상의 캐'의 fav 안 주소의 html를 긁어온거를 txt파일로 만들어서 넣기\n",
        "data = f.read()\n",
        "f.close()\n",
        "\n",
        "soup_fav = BeautifulSoup(data, 'html.parser')\n",
        "fav = soup_fav.select('div.user-name > a.user-name-badge')\n",
        "\n",
        "fav_list = []\n",
        "\n",
        "for w in fav:\n",
        "    fav_list.append(w.text)\n",
        "\n",
        "for v in fav_list:\n",
        "    if v in who_dic:\n",
        "        who_dic[v] = 1\n",
        "\n",
        "real_who_dic = dict()\n",
        "\n",
        "for l in subber_list:\n",
        "    if l in who_dic:\n",
        "        real_who_dic[l] = 1\n",
        "\n",
        "who_dic = real_who_dic\n",
        "     \n",
        "print(who_dic)\n",
        "print(len(who_dic))"
      ]
    },
    {
      "cell_type": "code",
      "execution_count": null,
      "metadata": {
        "scrolled": true,
        "id": "bbv-oKlSKS5s"
      },
      "outputs": [],
      "source": [
        "#최종 추첨\n",
        "\n",
        "raffle_one = []\n",
        "\n",
        "for r in who_dic:\n",
        "    for m in range(1, who_dic[r]+1):\n",
        "        raffle_one.append(r)\n",
        "\n",
        "print(raffle_one)\n",
        "\n",
        "import random\n",
        "\n"
      ]
    },
    {
      "cell_type": "code",
      "execution_count": null,
      "metadata": {
        "id": "u6YsaJLPKS5s"
      },
      "outputs": [],
      "source": [
        "winner = random.choice(raffle_one)\n",
        "#랜덤으로 요소 하나 출력\n",
        "#이거 raffle_one으로 되어있는지 꼭 확인\n",
        "\n",
        "print(\"\\nwinner: \", winner)"
      ]
    },
    {
      "cell_type": "code",
      "execution_count": null,
      "metadata": {
        "id": "mqhme5oVKS5t"
      },
      "outputs": [],
      "source": []
    }
  ],
  "metadata": {
    "kernelspec": {
      "display_name": "Python 3",
      "language": "python",
      "name": "python3"
    },
    "language_info": {
      "codemirror_mode": {
        "name": "ipython",
        "version": 3
      },
      "file_extension": ".py",
      "mimetype": "text/x-python",
      "name": "python",
      "nbconvert_exporter": "python",
      "pygments_lexer": "ipython3",
      "version": "3.8.8"
    },
    "colab": {
      "provenance": [],
      "include_colab_link": true
    }
  },
  "nbformat": 4,
  "nbformat_minor": 0
}